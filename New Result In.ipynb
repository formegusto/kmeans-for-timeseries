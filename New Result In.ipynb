{
 "cells": [
  {
   "cell_type": "code",
   "execution_count": 1,
   "id": "b451f688",
   "metadata": {},
   "outputs": [],
   "source": [
    "%load_ext autoreload\n",
    "%autoreload 2\n",
    "%reload_ext autoreload"
   ]
  },
  {
   "cell_type": "code",
   "execution_count": 2,
   "id": "fc99949a",
   "metadata": {},
   "outputs": [
    {
     "name": "stdout",
     "output_type": "stream",
     "text": [
      "connect KETIDB,,,\n",
      "connect success!!\n"
     ]
    }
   ],
   "source": [
    "from modules.Utils import KETIDB\n",
    "from modules.KMeans import KMeans\n",
    "from modules.CommonDatas import SEASONSARR\n",
    "import pandas as pd\n",
    "\n",
    "db = KETIDB()\n",
    "db.connect()"
   ]
  },
  {
   "cell_type": "code",
   "execution_count": 7,
   "id": "c5832fd8",
   "metadata": {
    "scrolled": true
   },
   "outputs": [
    {
     "name": "stdout",
     "output_type": "stream",
     "text": [
      "0:아파트2-3-601:봄: pattern recognition start\n",
      "---Init KMeans---\n",
      "---K Setting 6 ---\n",
      "---6:Clustering Start---\n",
      "---Now 1---\n",
      "---First Cluster Group Init---\n",
      "---Now 2---\n",
      "---Now 3---\n",
      "---Now 4---\n",
      "---Now 5---\n",
      "---Now 6---\n",
      "---Now 7---\n",
      "---Now 8---\n",
      "---Now 9---\n",
      "True:Success\n",
      "GERONIMO! 아파트2-3-601 db in start!\n",
      "아파트2-3-601, db in Success!! ID is 6142c11537ab5a93da4eca8c\n",
      "Check This Out! {'_id': ObjectId('6142c11537ab5a93da4eca8c'), 'uid': '아파트2-3-601', 'season': '봄', 'K': 6, 'tss': 1.4806699531250005, 'wss': 0.8069742180602006, 'ecv': 45.49938584509964, 'cdpv': 62.42339803989636, 'info': [{'date': '2018-05-23', 'label': 4}, {'date': '2018-05-24', 'label': 5}, {'date': '2018-05-25', 'label': 2}, {'date': '2018-05-26', 'label': 5}, {'date': '2018-05-27', 'label': 5}, {'date': '2018-05-28', 'label': 5}, {'date': '2018-05-29', 'label': 5}, {'date': '2018-05-30', 'label': 5}, {'date': '2018-05-31', 'label': 5}, {'date': '2019-03-01', 'label': 5}, {'date': '2019-03-02', 'label': 1}, {'date': '2019-03-03', 'label': 0}, {'date': '2019-03-04', 'label': 3}, {'date': '2019-03-05', 'label': 3}, {'date': '2019-03-06', 'label': 2}, {'date': '2019-03-07', 'label': 2}, {'date': '2019-03-08', 'label': 2}, {'date': '2019-03-09', 'label': 4}, {'date': '2019-03-10', 'label': 0}, {'date': '2019-03-11', 'label': 4}, {'date': '2019-03-12', 'label': 2}, {'date': '2019-03-14', 'label': 4}, {'date': '2019-03-15', 'label': 5}, {'date': '2019-03-16', 'label': 4}, {'date': '2019-03-17', 'label': 1}, {'date': '2019-03-18', 'label': 2}, {'date': '2019-03-21', 'label': 2}, {'date': '2019-03-22', 'label': 2}, {'date': '2019-03-23', 'label': 5}, {'date': '2019-03-24', 'label': 1}, {'date': '2019-03-25', 'label': 2}, {'date': '2019-03-26', 'label': 3}, {'date': '2019-03-27', 'label': 2}, {'date': '2019-03-28', 'label': 5}, {'date': '2019-03-29', 'label': 2}, {'date': '2019-03-30', 'label': 2}, {'date': '2019-04-01', 'label': 4}, {'date': '2019-04-02', 'label': 2}, {'date': '2019-04-03', 'label': 3}, {'date': '2019-04-04', 'label': 2}, {'date': '2019-04-05', 'label': 4}, {'date': '2019-04-06', 'label': 1}, {'date': '2019-04-07', 'label': 1}, {'date': '2019-04-08', 'label': 3}, {'date': '2019-04-09', 'label': 2}, {'date': '2019-04-10', 'label': 5}, {'date': '2019-04-11', 'label': 3}, {'date': '2019-04-12', 'label': 2}, {'date': '2019-04-13', 'label': 4}, {'date': '2019-04-15', 'label': 2}, {'date': '2019-04-16', 'label': 2}, {'date': '2019-04-17', 'label': 2}, {'date': '2019-04-18', 'label': 2}, {'date': '2019-04-19', 'label': 3}, {'date': '2019-04-20', 'label': 4}, {'date': '2019-04-21', 'label': 4}, {'date': '2019-04-22', 'label': 3}, {'date': '2019-04-24', 'label': 3}, {'date': '2019-04-25', 'label': 3}, {'date': '2019-04-26', 'label': 2}, {'date': '2019-04-27', 'label': 4}, {'date': '2019-04-28', 'label': 5}, {'date': '2019-04-29', 'label': 2}, {'date': '2019-04-30', 'label': 2}]}\n",
      "0:아파트2-3-601:여름: pattern recognition start\n",
      "---Init KMeans---\n",
      "---K Setting 6 ---\n",
      "---6:Clustering Start---\n",
      "---Now 1---\n",
      "---First Cluster Group Init---\n",
      "---Now 2---\n",
      "---Now 3---\n",
      "---Now 4---\n",
      "---Now 5---\n",
      "---Now 6---\n",
      "True:Success\n",
      "GERONIMO! 아파트2-3-601 db in start!\n",
      "아파트2-3-601, db in Success!! ID is 6142c11a37ab5a93da4eca8d\n",
      "Check This Out! {'_id': ObjectId('6142c11a37ab5a93da4eca8d'), 'uid': '아파트2-3-601', 'season': '여름', 'K': 6, 'tss': 3.696983584415584, 'wss': 1.7484530644736838, 'ecv': 52.70595542149052, 'cdpv': 79.37499934418408, 'info': [{'date': '2018-06-01', 'label': 3}, {'date': '2018-06-02', 'label': 2}, {'date': '2018-06-03', 'label': 2}, {'date': '2018-06-04', 'label': 3}, {'date': '2018-06-05', 'label': 3}, {'date': '2018-06-06', 'label': 3}, {'date': '2018-06-07', 'label': 3}, {'date': '2018-06-08', 'label': 3}, {'date': '2018-06-09', 'label': 2}, {'date': '2018-06-10', 'label': 2}, {'date': '2018-06-11', 'label': 3}, {'date': '2018-06-12', 'label': 3}, {'date': '2018-06-13', 'label': 5}, {'date': '2018-06-14', 'label': 3}, {'date': '2018-06-15', 'label': 3}, {'date': '2018-06-16', 'label': 2}, {'date': '2018-06-17', 'label': 2}, {'date': '2018-06-18', 'label': 3}, {'date': '2018-06-19', 'label': 3}, {'date': '2018-06-20', 'label': 3}, {'date': '2018-06-21', 'label': 3}, {'date': '2018-06-22', 'label': 3}, {'date': '2018-06-23', 'label': 2}, {'date': '2018-06-24', 'label': 2}, {'date': '2018-06-25', 'label': 3}, {'date': '2018-06-26', 'label': 3}, {'date': '2018-06-27', 'label': 3}, {'date': '2018-06-28', 'label': 3}, {'date': '2018-06-29', 'label': 3}, {'date': '2018-06-30', 'label': 2}, {'date': '2018-07-01', 'label': 2}, {'date': '2018-07-02', 'label': 3}, {'date': '2018-07-03', 'label': 3}, {'date': '2018-07-04', 'label': 3}, {'date': '2018-07-05', 'label': 3}, {'date': '2018-07-06', 'label': 3}, {'date': '2018-07-07', 'label': 2}, {'date': '2018-07-08', 'label': 2}, {'date': '2018-07-09', 'label': 3}, {'date': '2018-07-10', 'label': 3}, {'date': '2018-07-11', 'label': 3}, {'date': '2018-07-12', 'label': 3}, {'date': '2018-07-13', 'label': 3}, {'date': '2018-07-14', 'label': 4}, {'date': '2018-07-16', 'label': 2}, {'date': '2018-07-17', 'label': 3}, {'date': '2018-07-18', 'label': 3}, {'date': '2018-07-19', 'label': 3}, {'date': '2018-07-20', 'label': 2}, {'date': '2018-07-21', 'label': 2}, {'date': '2018-07-22', 'label': 0}, {'date': '2018-07-26', 'label': 4}, {'date': '2018-07-29', 'label': 1}, {'date': '2018-07-30', 'label': 4}, {'date': '2018-08-05', 'label': 1}, {'date': '2018-08-06', 'label': 2}, {'date': '2018-08-07', 'label': 4}, {'date': '2018-08-09', 'label': 1}, {'date': '2018-08-10', 'label': 4}, {'date': '2018-08-11', 'label': 4}, {'date': '2018-08-12', 'label': 1}, {'date': '2018-08-13', 'label': 1}, {'date': '2018-08-16', 'label': 4}, {'date': '2018-08-17', 'label': 3}, {'date': '2018-08-18', 'label': 2}, {'date': '2018-08-19', 'label': 2}, {'date': '2018-08-20', 'label': 3}, {'date': '2018-08-21', 'label': 3}, {'date': '2018-08-23', 'label': 4}, {'date': '2018-08-24', 'label': 3}, {'date': '2018-08-25', 'label': 3}, {'date': '2018-08-26', 'label': 2}, {'date': '2018-08-27', 'label': 3}, {'date': '2018-08-28', 'label': 3}, {'date': '2018-08-29', 'label': 3}, {'date': '2018-08-30', 'label': 3}, {'date': '2018-08-31', 'label': 3}]}\n",
      "0:아파트2-3-601:가을: pattern recognition start\n",
      "---Init KMeans---\n",
      "---K Setting 6 ---\n",
      "---6:Clustering Start---\n",
      "---Now 1---\n",
      "---First Cluster Group Init---\n",
      "---Now 2---\n",
      "---Now 3---\n",
      "---Now 4---\n",
      "---Now 5---\n",
      "---Now 6---\n"
     ]
    },
    {
     "ename": "KeyboardInterrupt",
     "evalue": "",
     "output_type": "error",
     "traceback": [
      "\u001b[0;31m---------------------------------------------------------------------------\u001b[0m",
      "\u001b[0;31mKeyboardInterrupt\u001b[0m                         Traceback (most recent call last)",
      "\u001b[0;32m<ipython-input-7-0c2143e32ec8>\u001b[0m in \u001b[0;36m<module>\u001b[0;34m\u001b[0m\n\u001b[1;32m      8\u001b[0m         \u001b[0mprint\u001b[0m\u001b[0;34m(\u001b[0m\u001b[0;34m\"{}:{}:{}: pattern recognition start\"\u001b[0m\u001b[0;34m.\u001b[0m\u001b[0mformat\u001b[0m\u001b[0;34m(\u001b[0m\u001b[0mseq\u001b[0m\u001b[0;34m,\u001b[0m\u001b[0mdatas\u001b[0m\u001b[0;34m.\u001b[0m\u001b[0muid\u001b[0m\u001b[0;34m,\u001b[0m\u001b[0mseason\u001b[0m\u001b[0;34m)\u001b[0m\u001b[0;34m)\u001b[0m\u001b[0;34m\u001b[0m\u001b[0;34m\u001b[0m\u001b[0m\n\u001b[1;32m      9\u001b[0m         \u001b[0mkm\u001b[0m \u001b[0;34m=\u001b[0m \u001b[0mKMeans\u001b[0m\u001b[0;34m(\u001b[0m\u001b[0mdatas\u001b[0m\u001b[0;34m.\u001b[0m\u001b[0mmerge_datas\u001b[0m\u001b[0;34m[\u001b[0m\u001b[0mseason\u001b[0m\u001b[0;34m]\u001b[0m\u001b[0;34m,\u001b[0m \u001b[0mlogging\u001b[0m\u001b[0;34m=\u001b[0m\u001b[0;32mFalse\u001b[0m \u001b[0;34m)\u001b[0m\u001b[0;34m\u001b[0m\u001b[0;34m\u001b[0m\u001b[0m\n\u001b[0;32m---> 10\u001b[0;31m         \u001b[0mres\u001b[0m\u001b[0;34m,\u001b[0m \u001b[0mmessage\u001b[0m \u001b[0;34m=\u001b[0m \u001b[0mkm\u001b[0m\u001b[0;34m.\u001b[0m\u001b[0mrun\u001b[0m\u001b[0;34m(\u001b[0m\u001b[0;34m)\u001b[0m\u001b[0;34m\u001b[0m\u001b[0;34m\u001b[0m\u001b[0m\n\u001b[0m\u001b[1;32m     11\u001b[0m         \u001b[0mprint\u001b[0m\u001b[0;34m(\u001b[0m\u001b[0;34m\"{}:{}\"\u001b[0m\u001b[0;34m.\u001b[0m\u001b[0mformat\u001b[0m\u001b[0;34m(\u001b[0m\u001b[0mres\u001b[0m\u001b[0;34m,\u001b[0m \u001b[0mmessage\u001b[0m\u001b[0;34m)\u001b[0m\u001b[0;34m)\u001b[0m\u001b[0;34m\u001b[0m\u001b[0;34m\u001b[0m\u001b[0m\n\u001b[1;32m     12\u001b[0m \u001b[0;34m\u001b[0m\u001b[0m\n",
      "\u001b[0;32m~/Desktop/formegusto/research/kmeans-euclidean-cosine/modules/KMeans.py\u001b[0m in \u001b[0;36mrun\u001b[0;34m(self, K)\u001b[0m\n\u001b[1;32m    343\u001b[0m                 \u001b[0msim_info\u001b[0m \u001b[0;34m=\u001b[0m \u001b[0mpd\u001b[0m\u001b[0;34m.\u001b[0m\u001b[0mDataFrame\u001b[0m\u001b[0;34m(\u001b[0m\u001b[0mcolumns\u001b[0m\u001b[0;34m=\u001b[0m\u001b[0mcols\u001b[0m\u001b[0;34m)\u001b[0m\u001b[0;34m\u001b[0m\u001b[0;34m\u001b[0m\u001b[0m\n\u001b[1;32m    344\u001b[0m                 \u001b[0;32mfor\u001b[0m \u001b[0mrow\u001b[0m \u001b[0;32min\u001b[0m \u001b[0mrows\u001b[0m\u001b[0;34m:\u001b[0m\u001b[0;34m\u001b[0m\u001b[0;34m\u001b[0m\u001b[0m\n\u001b[0;32m--> 345\u001b[0;31m                     sim_info.loc[row] = [\n\u001b[0m\u001b[1;32m    346\u001b[0m                         utils.euclidean_distance(\n\u001b[1;32m    347\u001b[0m                             \u001b[0mself\u001b[0m\u001b[0;34m.\u001b[0m\u001b[0mcluster_dict\u001b[0m\u001b[0;34m[\u001b[0m\u001b[0mrow\u001b[0m\u001b[0;34m]\u001b[0m\u001b[0;34m,\u001b[0m\u001b[0;34m\u001b[0m\u001b[0;34m\u001b[0m\u001b[0m\n",
      "\u001b[0;32m~/opt/anaconda3/lib/python3.8/site-packages/pandas/core/indexing.py\u001b[0m in \u001b[0;36m__setitem__\u001b[0;34m(self, key, value)\u001b[0m\n\u001b[1;32m    690\u001b[0m \u001b[0;34m\u001b[0m\u001b[0m\n\u001b[1;32m    691\u001b[0m         \u001b[0miloc\u001b[0m \u001b[0;34m=\u001b[0m \u001b[0mself\u001b[0m \u001b[0;32mif\u001b[0m \u001b[0mself\u001b[0m\u001b[0;34m.\u001b[0m\u001b[0mname\u001b[0m \u001b[0;34m==\u001b[0m \u001b[0;34m\"iloc\"\u001b[0m \u001b[0;32melse\u001b[0m \u001b[0mself\u001b[0m\u001b[0;34m.\u001b[0m\u001b[0mobj\u001b[0m\u001b[0;34m.\u001b[0m\u001b[0miloc\u001b[0m\u001b[0;34m\u001b[0m\u001b[0;34m\u001b[0m\u001b[0m\n\u001b[0;32m--> 692\u001b[0;31m         \u001b[0miloc\u001b[0m\u001b[0;34m.\u001b[0m\u001b[0m_setitem_with_indexer\u001b[0m\u001b[0;34m(\u001b[0m\u001b[0mindexer\u001b[0m\u001b[0;34m,\u001b[0m \u001b[0mvalue\u001b[0m\u001b[0;34m,\u001b[0m \u001b[0mself\u001b[0m\u001b[0;34m.\u001b[0m\u001b[0mname\u001b[0m\u001b[0;34m)\u001b[0m\u001b[0;34m\u001b[0m\u001b[0;34m\u001b[0m\u001b[0m\n\u001b[0m\u001b[1;32m    693\u001b[0m \u001b[0;34m\u001b[0m\u001b[0m\n\u001b[1;32m    694\u001b[0m     \u001b[0;32mdef\u001b[0m \u001b[0m_validate_key\u001b[0m\u001b[0;34m(\u001b[0m\u001b[0mself\u001b[0m\u001b[0;34m,\u001b[0m \u001b[0mkey\u001b[0m\u001b[0;34m,\u001b[0m \u001b[0maxis\u001b[0m\u001b[0;34m:\u001b[0m \u001b[0mint\u001b[0m\u001b[0;34m)\u001b[0m\u001b[0;34m:\u001b[0m\u001b[0;34m\u001b[0m\u001b[0;34m\u001b[0m\u001b[0m\n",
      "\u001b[0;32m~/opt/anaconda3/lib/python3.8/site-packages/pandas/core/indexing.py\u001b[0m in \u001b[0;36m_setitem_with_indexer\u001b[0;34m(self, indexer, value, name)\u001b[0m\n\u001b[1;32m   1627\u001b[0m \u001b[0;34m\u001b[0m\u001b[0m\n\u001b[1;32m   1628\u001b[0m             \u001b[0;32mif\u001b[0m \u001b[0mmissing\u001b[0m\u001b[0;34m:\u001b[0m\u001b[0;34m\u001b[0m\u001b[0;34m\u001b[0m\u001b[0m\n\u001b[0;32m-> 1629\u001b[0;31m                 \u001b[0mself\u001b[0m\u001b[0;34m.\u001b[0m\u001b[0m_setitem_with_indexer_missing\u001b[0m\u001b[0;34m(\u001b[0m\u001b[0mindexer\u001b[0m\u001b[0;34m,\u001b[0m \u001b[0mvalue\u001b[0m\u001b[0;34m)\u001b[0m\u001b[0;34m\u001b[0m\u001b[0;34m\u001b[0m\u001b[0m\n\u001b[0m\u001b[1;32m   1630\u001b[0m                 \u001b[0;32mreturn\u001b[0m\u001b[0;34m\u001b[0m\u001b[0;34m\u001b[0m\u001b[0m\n\u001b[1;32m   1631\u001b[0m \u001b[0;34m\u001b[0m\u001b[0m\n",
      "\u001b[0;32m~/opt/anaconda3/lib/python3.8/site-packages/pandas/core/indexing.py\u001b[0m in \u001b[0;36m_setitem_with_indexer_missing\u001b[0;34m(self, indexer, value)\u001b[0m\n\u001b[1;32m   1920\u001b[0m                 \u001b[0mvalue\u001b[0m \u001b[0;34m=\u001b[0m \u001b[0mSeries\u001b[0m\u001b[0;34m(\u001b[0m\u001b[0mvalue\u001b[0m\u001b[0;34m,\u001b[0m \u001b[0mindex\u001b[0m\u001b[0;34m=\u001b[0m\u001b[0mself\u001b[0m\u001b[0;34m.\u001b[0m\u001b[0mobj\u001b[0m\u001b[0;34m.\u001b[0m\u001b[0mcolumns\u001b[0m\u001b[0;34m,\u001b[0m \u001b[0mname\u001b[0m\u001b[0;34m=\u001b[0m\u001b[0mindexer\u001b[0m\u001b[0;34m)\u001b[0m\u001b[0;34m\u001b[0m\u001b[0;34m\u001b[0m\u001b[0m\n\u001b[1;32m   1921\u001b[0m \u001b[0;34m\u001b[0m\u001b[0m\n\u001b[0;32m-> 1922\u001b[0;31m             \u001b[0mself\u001b[0m\u001b[0;34m.\u001b[0m\u001b[0mobj\u001b[0m\u001b[0;34m.\u001b[0m\u001b[0m_mgr\u001b[0m \u001b[0;34m=\u001b[0m \u001b[0mself\u001b[0m\u001b[0;34m.\u001b[0m\u001b[0mobj\u001b[0m\u001b[0;34m.\u001b[0m\u001b[0mappend\u001b[0m\u001b[0;34m(\u001b[0m\u001b[0mvalue\u001b[0m\u001b[0;34m)\u001b[0m\u001b[0;34m.\u001b[0m\u001b[0m_mgr\u001b[0m\u001b[0;34m\u001b[0m\u001b[0;34m\u001b[0m\u001b[0m\n\u001b[0m\u001b[1;32m   1923\u001b[0m             \u001b[0mself\u001b[0m\u001b[0;34m.\u001b[0m\u001b[0mobj\u001b[0m\u001b[0;34m.\u001b[0m\u001b[0m_maybe_update_cacher\u001b[0m\u001b[0;34m(\u001b[0m\u001b[0mclear\u001b[0m\u001b[0;34m=\u001b[0m\u001b[0;32mTrue\u001b[0m\u001b[0;34m)\u001b[0m\u001b[0;34m\u001b[0m\u001b[0;34m\u001b[0m\u001b[0m\n\u001b[1;32m   1924\u001b[0m \u001b[0;34m\u001b[0m\u001b[0m\n",
      "\u001b[0;32m~/opt/anaconda3/lib/python3.8/site-packages/pandas/core/frame.py\u001b[0m in \u001b[0;36mappend\u001b[0;34m(self, other, ignore_index, verify_integrity, sort)\u001b[0m\n\u001b[1;32m   7958\u001b[0m                 \u001b[0mcombined_columns\u001b[0m \u001b[0;34m=\u001b[0m \u001b[0mself\u001b[0m\u001b[0;34m.\u001b[0m\u001b[0mcolumns\u001b[0m\u001b[0;34m.\u001b[0m\u001b[0mastype\u001b[0m\u001b[0;34m(\u001b[0m\u001b[0mobject\u001b[0m\u001b[0;34m)\u001b[0m\u001b[0;34m.\u001b[0m\u001b[0mappend\u001b[0m\u001b[0;34m(\u001b[0m\u001b[0midx_diff\u001b[0m\u001b[0;34m)\u001b[0m\u001b[0;34m\u001b[0m\u001b[0;34m\u001b[0m\u001b[0m\n\u001b[1;32m   7959\u001b[0m             other = (\n\u001b[0;32m-> 7960\u001b[0;31m                 \u001b[0mother\u001b[0m\u001b[0;34m.\u001b[0m\u001b[0mreindex\u001b[0m\u001b[0;34m(\u001b[0m\u001b[0mcombined_columns\u001b[0m\u001b[0;34m,\u001b[0m \u001b[0mcopy\u001b[0m\u001b[0;34m=\u001b[0m\u001b[0;32mFalse\u001b[0m\u001b[0;34m)\u001b[0m\u001b[0;34m\u001b[0m\u001b[0;34m\u001b[0m\u001b[0m\n\u001b[0m\u001b[1;32m   7961\u001b[0m                 \u001b[0;34m.\u001b[0m\u001b[0mto_frame\u001b[0m\u001b[0;34m(\u001b[0m\u001b[0;34m)\u001b[0m\u001b[0;34m\u001b[0m\u001b[0;34m\u001b[0m\u001b[0m\n\u001b[1;32m   7962\u001b[0m                 \u001b[0;34m.\u001b[0m\u001b[0mT\u001b[0m\u001b[0;34m.\u001b[0m\u001b[0minfer_objects\u001b[0m\u001b[0;34m(\u001b[0m\u001b[0;34m)\u001b[0m\u001b[0;34m\u001b[0m\u001b[0;34m\u001b[0m\u001b[0m\n",
      "\u001b[0;32m~/opt/anaconda3/lib/python3.8/site-packages/pandas/util/_decorators.py\u001b[0m in \u001b[0;36mwrapper\u001b[0;34m(*args, **kwargs)\u001b[0m\n\u001b[1;32m    310\u001b[0m         \u001b[0;34m@\u001b[0m\u001b[0mwraps\u001b[0m\u001b[0;34m(\u001b[0m\u001b[0mfunc\u001b[0m\u001b[0;34m)\u001b[0m\u001b[0;34m\u001b[0m\u001b[0;34m\u001b[0m\u001b[0m\n\u001b[1;32m    311\u001b[0m         \u001b[0;32mdef\u001b[0m \u001b[0mwrapper\u001b[0m\u001b[0;34m(\u001b[0m\u001b[0;34m*\u001b[0m\u001b[0margs\u001b[0m\u001b[0;34m,\u001b[0m \u001b[0;34m**\u001b[0m\u001b[0mkwargs\u001b[0m\u001b[0;34m)\u001b[0m \u001b[0;34m->\u001b[0m \u001b[0mCallable\u001b[0m\u001b[0;34m[\u001b[0m\u001b[0;34m...\u001b[0m\u001b[0;34m,\u001b[0m \u001b[0mAny\u001b[0m\u001b[0;34m]\u001b[0m\u001b[0;34m:\u001b[0m\u001b[0;34m\u001b[0m\u001b[0;34m\u001b[0m\u001b[0m\n\u001b[0;32m--> 312\u001b[0;31m             \u001b[0;32mreturn\u001b[0m \u001b[0mfunc\u001b[0m\u001b[0;34m(\u001b[0m\u001b[0;34m*\u001b[0m\u001b[0margs\u001b[0m\u001b[0;34m,\u001b[0m \u001b[0;34m**\u001b[0m\u001b[0mkwargs\u001b[0m\u001b[0;34m)\u001b[0m\u001b[0;34m\u001b[0m\u001b[0;34m\u001b[0m\u001b[0m\n\u001b[0m\u001b[1;32m    313\u001b[0m \u001b[0;34m\u001b[0m\u001b[0m\n\u001b[1;32m    314\u001b[0m         \u001b[0mkind\u001b[0m \u001b[0;34m=\u001b[0m \u001b[0minspect\u001b[0m\u001b[0;34m.\u001b[0m\u001b[0mParameter\u001b[0m\u001b[0;34m.\u001b[0m\u001b[0mPOSITIONAL_OR_KEYWORD\u001b[0m\u001b[0;34m\u001b[0m\u001b[0;34m\u001b[0m\u001b[0m\n",
      "\u001b[0;32m~/opt/anaconda3/lib/python3.8/site-packages/pandas/core/generic.py\u001b[0m in \u001b[0;36mrename_axis\u001b[0;34m(self, mapper, **kwargs)\u001b[0m\n\u001b[1;32m   1213\u001b[0m             \u001b[0;31m# Use v0.23 behavior if a scalar or list\u001b[0m\u001b[0;34m\u001b[0m\u001b[0;34m\u001b[0m\u001b[0;34m\u001b[0m\u001b[0m\n\u001b[1;32m   1214\u001b[0m             non_mapper = is_scalar(mapper) or (\n\u001b[0;32m-> 1215\u001b[0;31m                 \u001b[0mis_list_like\u001b[0m\u001b[0;34m(\u001b[0m\u001b[0mmapper\u001b[0m\u001b[0;34m)\u001b[0m \u001b[0;32mand\u001b[0m \u001b[0;32mnot\u001b[0m \u001b[0mis_dict_like\u001b[0m\u001b[0;34m(\u001b[0m\u001b[0mmapper\u001b[0m\u001b[0;34m)\u001b[0m\u001b[0;34m\u001b[0m\u001b[0;34m\u001b[0m\u001b[0m\n\u001b[0m\u001b[1;32m   1216\u001b[0m             )\n\u001b[1;32m   1217\u001b[0m             \u001b[0;32mif\u001b[0m \u001b[0mnon_mapper\u001b[0m\u001b[0;34m:\u001b[0m\u001b[0;34m\u001b[0m\u001b[0;34m\u001b[0m\u001b[0m\n",
      "\u001b[0;32m~/opt/anaconda3/lib/python3.8/site-packages/pandas/core/dtypes/inference.py\u001b[0m in \u001b[0;36mis_dict_like\u001b[0;34m(obj)\u001b[0m\n\u001b[1;32m    287\u001b[0m     \u001b[0mdict_like_attrs\u001b[0m \u001b[0;34m=\u001b[0m \u001b[0;34m(\u001b[0m\u001b[0;34m\"__getitem__\"\u001b[0m\u001b[0;34m,\u001b[0m \u001b[0;34m\"keys\"\u001b[0m\u001b[0;34m,\u001b[0m \u001b[0;34m\"__contains__\"\u001b[0m\u001b[0;34m)\u001b[0m\u001b[0;34m\u001b[0m\u001b[0;34m\u001b[0m\u001b[0m\n\u001b[1;32m    288\u001b[0m     return (\n\u001b[0;32m--> 289\u001b[0;31m         \u001b[0mall\u001b[0m\u001b[0;34m(\u001b[0m\u001b[0mhasattr\u001b[0m\u001b[0;34m(\u001b[0m\u001b[0mobj\u001b[0m\u001b[0;34m,\u001b[0m \u001b[0mattr\u001b[0m\u001b[0;34m)\u001b[0m \u001b[0;32mfor\u001b[0m \u001b[0mattr\u001b[0m \u001b[0;32min\u001b[0m \u001b[0mdict_like_attrs\u001b[0m\u001b[0;34m)\u001b[0m\u001b[0;34m\u001b[0m\u001b[0;34m\u001b[0m\u001b[0m\n\u001b[0m\u001b[1;32m    290\u001b[0m         \u001b[0;31m# [GH 25196] exclude classes\u001b[0m\u001b[0;34m\u001b[0m\u001b[0;34m\u001b[0m\u001b[0;34m\u001b[0m\u001b[0m\n\u001b[1;32m    291\u001b[0m         \u001b[0;32mand\u001b[0m \u001b[0;32mnot\u001b[0m \u001b[0misinstance\u001b[0m\u001b[0;34m(\u001b[0m\u001b[0mobj\u001b[0m\u001b[0;34m,\u001b[0m \u001b[0mtype\u001b[0m\u001b[0;34m)\u001b[0m\u001b[0;34m\u001b[0m\u001b[0;34m\u001b[0m\u001b[0m\n",
      "\u001b[0;32m~/opt/anaconda3/lib/python3.8/site-packages/pandas/core/dtypes/inference.py\u001b[0m in \u001b[0;36m<genexpr>\u001b[0;34m(.0)\u001b[0m\n\u001b[1;32m    287\u001b[0m     \u001b[0mdict_like_attrs\u001b[0m \u001b[0;34m=\u001b[0m \u001b[0;34m(\u001b[0m\u001b[0;34m\"__getitem__\"\u001b[0m\u001b[0;34m,\u001b[0m \u001b[0;34m\"keys\"\u001b[0m\u001b[0;34m,\u001b[0m \u001b[0;34m\"__contains__\"\u001b[0m\u001b[0;34m)\u001b[0m\u001b[0;34m\u001b[0m\u001b[0;34m\u001b[0m\u001b[0m\n\u001b[1;32m    288\u001b[0m     return (\n\u001b[0;32m--> 289\u001b[0;31m         \u001b[0mall\u001b[0m\u001b[0;34m(\u001b[0m\u001b[0mhasattr\u001b[0m\u001b[0;34m(\u001b[0m\u001b[0mobj\u001b[0m\u001b[0;34m,\u001b[0m \u001b[0mattr\u001b[0m\u001b[0;34m)\u001b[0m \u001b[0;32mfor\u001b[0m \u001b[0mattr\u001b[0m \u001b[0;32min\u001b[0m \u001b[0mdict_like_attrs\u001b[0m\u001b[0;34m)\u001b[0m\u001b[0;34m\u001b[0m\u001b[0;34m\u001b[0m\u001b[0m\n\u001b[0m\u001b[1;32m    290\u001b[0m         \u001b[0;31m# [GH 25196] exclude classes\u001b[0m\u001b[0;34m\u001b[0m\u001b[0;34m\u001b[0m\u001b[0;34m\u001b[0m\u001b[0m\n\u001b[1;32m    291\u001b[0m         \u001b[0;32mand\u001b[0m \u001b[0;32mnot\u001b[0m \u001b[0misinstance\u001b[0m\u001b[0;34m(\u001b[0m\u001b[0mobj\u001b[0m\u001b[0;34m,\u001b[0m \u001b[0mtype\u001b[0m\u001b[0;34m)\u001b[0m\u001b[0;34m\u001b[0m\u001b[0;34m\u001b[0m\u001b[0m\n",
      "\u001b[0;31mKeyboardInterrupt\u001b[0m: "
     ]
    }
   ],
   "source": [
    "# Test\n",
    "tss_transition = pd.DataFrame(columns=['K','tss','wss', 'ecv', 'cdpv','og_length', 'new_length', 'sequence'])\n",
    "\n",
    "for seq in range(0, 398):\n",
    "    datas = db.find_random(save=True, processing=True)\n",
    "    datas.split_merging()\n",
    "    for season in SEASONSARR:\n",
    "        print(\"{}:{}:{}: pattern recognition start\".format(seq,datas.uid,season))\n",
    "        km = KMeans(datas.merge_datas[season], logging=False )\n",
    "        res, message = km.run()\n",
    "        print(\"{}:{}\".format(res, message))\n",
    "        \n",
    "        if res == False:\n",
    "            continue\n",
    "        \n",
    "        tss_transition.loc[datas.uid] = [\n",
    "            km.K,\n",
    "            km.tss,\n",
    "            km.wss,\n",
    "            km.ecv,\n",
    "            km.cdpv,\n",
    "            km.og_length,\n",
    "            km.new_length,\n",
    "            km.sequence\n",
    "        ]\n",
    "        \n",
    "        save = True if season == '겨울' else False\n",
    "        db.save_result(datas.uid, season,km, save=save, split=True)\n",
    "        \n",
    "        del km"
   ]
  },
  {
   "cell_type": "code",
   "execution_count": null,
   "id": "e8cc0f1d",
   "metadata": {},
   "outputs": [],
   "source": []
  }
 ],
 "metadata": {
  "kernelspec": {
   "display_name": "Python 3",
   "language": "python",
   "name": "python3"
  },
  "language_info": {
   "codemirror_mode": {
    "name": "ipython",
    "version": 3
   },
   "file_extension": ".py",
   "mimetype": "text/x-python",
   "name": "python",
   "nbconvert_exporter": "python",
   "pygments_lexer": "ipython3",
   "version": "3.8.8"
  }
 },
 "nbformat": 4,
 "nbformat_minor": 5
}
