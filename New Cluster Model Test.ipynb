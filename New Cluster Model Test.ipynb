{
 "cells": [
  {
   "cell_type": "markdown",
   "id": "fe17feda",
   "metadata": {},
   "source": [
    "# Cosine Similarity Test"
   ]
  },
  {
   "cell_type": "code",
   "execution_count": 5,
   "id": "cb2c26f1",
   "metadata": {},
   "outputs": [
    {
     "name": "stdout",
     "output_type": "stream",
     "text": [
      "[1, 0, 2, 3] [0, 2, 3, 4] 0.8933250005738373\n"
     ]
    }
   ],
   "source": [
    "from numpy import dot\n",
    "from numpy.linalg import norm\n",
    "\n",
    "def cosine_similarity(A, B):\n",
    "    # print(B)\n",
    "    return dot(A, B) / (norm(A) * norm(B))\n",
    "\n",
    "y_1 = [1,0,2,3]\n",
    "y_2 = [0,2,3,4]\n",
    "y_3 = [1,0,2,3]\n",
    "\n",
    "print(y_1, y_2, cosine_similarity(y_1, y_2))"
   ]
  },
  {
   "cell_type": "markdown",
   "id": "0fdd0e71",
   "metadata": {},
   "source": [
    "# New KMeans Cluster Process\n",
    "- data in\n",
    "- data preprocessing\n",
    "- Distance Based Clustering\n",
    "- Cosine Similarity Based Clustering"
   ]
  },
  {
   "cell_type": "code",
   "execution_count": 8,
   "id": "79cf41e5",
   "metadata": {},
   "outputs": [
    {
     "name": "stdout",
     "output_type": "stream",
     "text": [
      "connect KETIDB,,,\n",
      "connect success!!\n"
     ]
    }
   ],
   "source": [
    "from modules._new.Utils import KETIDB\n",
    "from modules._new.CommonDatas import SEASONSARR\n",
    "import IPython\n",
    "import IPython.display\n",
    "import pandas as pd\n",
    "from numpy import dot\n",
    "from numpy.linalg import norm\n",
    "import matplotlib.pyplot as plt\n",
    "\n",
    "db = KETIDB()\n",
    "db.connect()"
   ]
  },
  {
   "cell_type": "code",
   "execution_count": 9,
   "id": "e5f2bdc9",
   "metadata": {},
   "outputs": [],
   "source": [
    "datas = db.find_jungang(processing=True)\n",
    "datas.merging()"
   ]
  }
 ],
 "metadata": {
  "kernelspec": {
   "display_name": "Python 3",
   "language": "python",
   "name": "python3"
  },
  "language_info": {
   "codemirror_mode": {
    "name": "ipython",
    "version": 3
   },
   "file_extension": ".py",
   "mimetype": "text/x-python",
   "name": "python",
   "nbconvert_exporter": "python",
   "pygments_lexer": "ipython3",
   "version": "3.8.8"
  }
 },
 "nbformat": 4,
 "nbformat_minor": 5
}
