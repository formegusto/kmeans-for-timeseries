{
 "cells": [
  {
   "cell_type": "code",
   "execution_count": 1,
   "id": "2980a57a",
   "metadata": {},
   "outputs": [],
   "source": [
    "%load_ext autoreload\n",
    "%autoreload 2\n",
    "%reload_ext autoreload"
   ]
  },
  {
   "cell_type": "code",
   "execution_count": 2,
   "id": "afa8b523",
   "metadata": {},
   "outputs": [
    {
     "name": "stdout",
     "output_type": "stream",
     "text": [
      "connect KETIDB,,,\n",
      "connect success!!\n"
     ]
    }
   ],
   "source": [
    "from modules.Utils import KETIDB\n",
    "from modules.KMeans import KMeans\n",
    "from modules.CommonDatas import SEASONSARR\n",
    "import IPython\n",
    "import IPython.display\n",
    "import pandas as pd\n",
    "\n",
    "db = KETIDB()\n",
    "db.connect()"
   ]
  },
  {
   "cell_type": "code",
   "execution_count": 3,
   "id": "2d02b50d",
   "metadata": {},
   "outputs": [
    {
     "name": "stdout",
     "output_type": "stream",
     "text": [
      "jungang_pattern:겨울: pattern recognition start\n",
      "---Init KMeans---\n",
      "---K Setting 6 ---\n",
      "---6:Clustering Start---\n",
      "---Now 1---\n",
      "---First Cluster Group Init---\n",
      "---Now 2---\n",
      "---Now 3---\n",
      "---Now 4---\n",
      "---Now 5---\n",
      "True:Success\n",
      "GERONIMO! jungang_pattern db in start!\n",
      "jungang_pattern, db in Success!! ID is 6187227002d5a54935f9252b\n",
      "Check This Out! {'_id': ObjectId('6187227002d5a54935f9252b'), 'uid': 'jungang_pattern', 'season': '겨울', 'K': 6, 'tss': 2071582347222.221, 'wss': 418475042561.1412, 'ecv': 79.79925620034979, 'cdpv': 72.34024266701495, 'info': [{'date': '2017-01-01', 'label': 2}, {'date': '2017-01-02', 'label': 4}, {'date': '2017-01-03', 'label': 3}, {'date': '2017-01-04', 'label': 4}, {'date': '2017-01-05', 'label': 3}, {'date': '2017-01-06', 'label': 3}, {'date': '2017-01-07', 'label': 2}, {'date': '2017-01-08', 'label': 2}, {'date': '2017-01-09', 'label': 1}, {'date': '2017-01-10', 'label': 1}, {'date': '2017-01-11', 'label': 3}, {'date': '2017-01-12', 'label': 1}, {'date': '2017-01-13', 'label': 3}, {'date': '2017-01-14', 'label': 2}, {'date': '2017-01-15', 'label': 2}, {'date': '2017-01-16', 'label': 3}, {'date': '2017-01-17', 'label': 3}, {'date': '2017-01-18', 'label': 3}, {'date': '2017-01-19', 'label': 3}, {'date': '2017-01-20', 'label': 3}, {'date': '2017-01-21', 'label': 2}, {'date': '2017-01-22', 'label': 2}, {'date': '2017-01-23', 'label': 1}, {'date': '2017-01-24', 'label': 1}, {'date': '2017-01-25', 'label': 3}, {'date': '2017-01-26', 'label': 3}, {'date': '2017-01-27', 'label': 2}, {'date': '2017-01-28', 'label': 0}, {'date': '2017-01-29', 'label': 5}, {'date': '2017-01-30', 'label': 2}, {'date': '2017-01-31', 'label': 3}, {'date': '2017-02-01', 'label': 3}, {'date': '2017-02-02', 'label': 3}, {'date': '2017-02-03', 'label': 3}, {'date': '2017-02-04', 'label': 2}, {'date': '2017-02-05', 'label': 2}, {'date': '2017-02-06', 'label': 3}, {'date': '2017-02-07', 'label': 3}, {'date': '2017-02-08', 'label': 3}, {'date': '2017-02-09', 'label': 1}, {'date': '2017-02-10', 'label': 1}, {'date': '2017-02-11', 'label': 3}, {'date': '2017-02-12', 'label': 2}, {'date': '2017-02-13', 'label': 1}, {'date': '2017-02-14', 'label': 1}, {'date': '2017-02-15', 'label': 1}, {'date': '2017-02-16', 'label': 1}, {'date': '2017-02-17', 'label': 1}, {'date': '2017-02-18', 'label': 2}, {'date': '2017-02-19', 'label': 2}, {'date': '2017-02-20', 'label': 1}, {'date': '2017-02-21', 'label': 3}, {'date': '2017-02-22', 'label': 3}, {'date': '2017-02-23', 'label': 1}, {'date': '2017-02-24', 'label': 3}, {'date': '2017-02-25', 'label': 2}, {'date': '2017-02-26', 'label': 2}, {'date': '2017-02-27', 'label': 1}, {'date': '2017-02-28', 'label': 1}, {'date': '2017-12-01', 'label': 5}, {'date': '2017-12-04', 'label': 5}, {'date': '2017-12-05', 'label': 5}, {'date': '2017-12-06', 'label': 5}, {'date': '2017-12-07', 'label': 5}, {'date': '2017-12-08', 'label': 4}, {'date': '2017-12-09', 'label': 0}, {'date': '2017-12-11', 'label': 4}, {'date': '2017-12-12', 'label': 4}, {'date': '2017-12-13', 'label': 4}, {'date': '2017-12-14', 'label': 4}, {'date': '2017-12-15', 'label': 5}, {'date': '2017-12-17', 'label': 0}, {'date': '2017-12-18', 'label': 4}, {'date': '2017-12-19', 'label': 4}, {'date': '2017-12-20', 'label': 4}, {'date': '2017-12-21', 'label': 5}, {'date': '2017-12-22', 'label': 5}, {'date': '2017-12-26', 'label': 5}, {'date': '2017-12-27', 'label': 5}, {'date': '2017-12-28', 'label': 5}, {'date': '2017-12-29', 'label': 0}]}\n"
     ]
    }
   ],
   "source": [
    "# Test\n",
    "tss_transition = pd.DataFrame(columns=['K','tss','wss', 'ecv', 'cdpv','og_length', 'new_length', 'sequence'])\n",
    "\n",
    "datas = db.find_jungang(processing=True)\n",
    "datas.merging()\n",
    "\n",
    "new_datas = dict()\n",
    "for season in SEASONSARR:\n",
    "    new_datas[season] = datas.merge_datas[season].loc[:,datas.merge_datas[season].columns.year == 2017]\n",
    "    print(\"{} data length ==> {} b\".format(season, len(new_datas[season].columns)))\n",
    "    \n",
    "datas.merge_datas = new_datas\n",
    "\n",
    "for season in SEASONSARR:\n",
    "        IPython.display.clear_output()\n",
    "        print(\"{}:{}: pattern recognition start\".format(datas.uid,season))\n",
    "        km = KMeans(datas.merge_datas[season], logging=False )\n",
    "        res, message = km.run()\n",
    "        print(\"{}:{}\".format(res, message))\n",
    "        \n",
    "        if res == False:\n",
    "            continue\n",
    "        \n",
    "        tss_transition.loc[datas.uid] = [\n",
    "            km.K,\n",
    "            km.tss,\n",
    "            km.wss,\n",
    "            km.ecv,\n",
    "            km.cdpv,\n",
    "            km.og_length,\n",
    "            km.new_length,\n",
    "            km.sequence\n",
    "        ]\n",
    "        \n",
    "        save = True if season == '겨울' else False\n",
    "        db.save_result(datas.uid, season,km, save=save)\n",
    "        \n",
    "        del km"
   ]
  },
  {
   "cell_type": "code",
   "execution_count": 4,
   "id": "4192bd69",
   "metadata": {},
   "outputs": [
    {
     "data": {
      "text/html": [
       "<div>\n",
       "<style scoped>\n",
       "    .dataframe tbody tr th:only-of-type {\n",
       "        vertical-align: middle;\n",
       "    }\n",
       "\n",
       "    .dataframe tbody tr th {\n",
       "        vertical-align: top;\n",
       "    }\n",
       "\n",
       "    .dataframe thead th {\n",
       "        text-align: right;\n",
       "    }\n",
       "</style>\n",
       "<table border=\"1\" class=\"dataframe\">\n",
       "  <thead>\n",
       "    <tr style=\"text-align: right;\">\n",
       "      <th></th>\n",
       "      <th>K</th>\n",
       "      <th>tss</th>\n",
       "      <th>wss</th>\n",
       "      <th>ecv</th>\n",
       "      <th>cdpv</th>\n",
       "      <th>og_length</th>\n",
       "      <th>new_length</th>\n",
       "      <th>sequence</th>\n",
       "    </tr>\n",
       "  </thead>\n",
       "  <tbody>\n",
       "    <tr>\n",
       "      <th>jungang_pattern</th>\n",
       "      <td>6.0</td>\n",
       "      <td>2.071582e+12</td>\n",
       "      <td>4.184750e+11</td>\n",
       "      <td>79.799256</td>\n",
       "      <td>72.340243</td>\n",
       "      <td>90.0</td>\n",
       "      <td>81.0</td>\n",
       "      <td>5.0</td>\n",
       "    </tr>\n",
       "  </tbody>\n",
       "</table>\n",
       "</div>"
      ],
      "text/plain": [
       "                   K           tss           wss        ecv       cdpv  \\\n",
       "jungang_pattern  6.0  2.071582e+12  4.184750e+11  79.799256  72.340243   \n",
       "\n",
       "                 og_length  new_length  sequence  \n",
       "jungang_pattern       90.0        81.0       5.0  "
      ]
     },
     "execution_count": 4,
     "metadata": {},
     "output_type": "execute_result"
    }
   ],
   "source": [
    "tss_transition"
   ]
  }
 ],
 "metadata": {
  "kernelspec": {
   "display_name": "Python 3",
   "language": "python",
   "name": "python3"
  },
  "language_info": {
   "codemirror_mode": {
    "name": "ipython",
    "version": 3
   },
   "file_extension": ".py",
   "mimetype": "text/x-python",
   "name": "python",
   "nbconvert_exporter": "python",
   "pygments_lexer": "ipython3",
   "version": "3.8.8"
  }
 },
 "nbformat": 4,
 "nbformat_minor": 5
}
